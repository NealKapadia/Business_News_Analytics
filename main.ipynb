{
  "nbformat": 4,
  "nbformat_minor": 0,
  "metadata": {
    "colab": {
      "provenance": [],
      "authorship_tag": "ABX9TyOby0US52MiYFDAJakexKtr",
      "include_colab_link": true
    },
    "kernelspec": {
      "name": "python3",
      "display_name": "Python 3"
    },
    "language_info": {
      "name": "python"
    }
  },
  "cells": [
    {
      "cell_type": "markdown",
      "metadata": {
        "id": "view-in-github",
        "colab_type": "text"
      },
      "source": [
        "<a href=\"https://colab.research.google.com/github/justi-lai/Business_News_Analytics/blob/main/main.ipynb\" target=\"_parent\"><img src=\"https://colab.research.google.com/assets/colab-badge.svg\" alt=\"Open In Colab\"/></a>"
      ]
    },
    {
      "cell_type": "code",
      "execution_count": 20,
      "metadata": {
        "id": "5P6d-1r2ePNa"
      },
      "outputs": [],
      "source": [
        "import torch\n",
        "import torch.nn as nn\n",
        "import torch.nn.functional as F\n",
        "import torch.optim as optim\n",
        "import requests\n",
        "import json\n",
        "import numpy as np\n",
        "import pandas as pd\n"
      ]
    },
    {
      "cell_type": "code",
      "source": [
        "apikey = '602a1f9dab464b98b1628cf062fb6b27'\n",
        "url = 'https://newsapi.org/v2/top-headlines'\n",
        "\n",
        "params = {\n",
        "    \"country\": \"us\",\n",
        "    \"category\": \"business\",\n",
        "    \"apiKey\": apikey\n",
        "}\n",
        "\n",
        "response = requests.get(url, params)\n",
        "\n",
        "if response.status_code == 200:\n",
        "    print(\"Success\")\n",
        "else:\n",
        "    print(\"Error\")\n",
        "\n",
        "\n",
        "\n",
        "print(response.json()['articles'][0]['title'])\n",
        "\n"
      ],
      "metadata": {
        "id": "jzCJxy6t1A_4",
        "outputId": "2ad83905-b19d-4ec4-e5ed-b93c649bcfd3",
        "colab": {
          "base_uri": "https://localhost:8080/"
        }
      },
      "execution_count": 22,
      "outputs": [
        {
          "output_type": "stream",
          "name": "stdout",
          "text": [
            "Success\n",
            "Down 45% In a Week, Super Micro Computer (SMCI) Stock Turns Negative on the Year - TipRanks\n"
          ]
        }
      ]
    }
  ]
}